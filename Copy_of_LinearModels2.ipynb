{
  "nbformat": 4,
  "nbformat_minor": 0,
  "metadata": {
    "colab": {
      "provenance": [],
      "include_colab_link": true
    },
    "kernelspec": {
      "name": "python3",
      "display_name": "Python 3"
    }
  },
  "cells": [
    {
      "cell_type": "markdown",
      "metadata": {
        "id": "view-in-github",
        "colab_type": "text"
      },
      "source": [
        "<a href=\"https://colab.research.google.com/github/ElizabethGarrison/Working-With-Data-Fundamentals/blob/main/Copy_of_LinearModels2.ipynb\" target=\"_parent\"><img src=\"https://colab.research.google.com/assets/colab-badge.svg\" alt=\"Open In Colab\"/></a>"
      ]
    },
    {
      "cell_type": "markdown",
      "metadata": {
        "id": "SrKJQe_YaV0x"
      },
      "source": [
        "# Linear Models, part II: Logistic Regression\n",
        "\n",
        "We'll use the global social indicators data to develop a logistic regression model and pratice interpreting the results.\n",
        "\n",
        "First, we'll import the libraries we'll need for this model.\n"
      ]
    },
    {
      "cell_type": "code",
      "metadata": {
        "id": "b6kTWy09caYT",
        "colab": {
          "base_uri": "https://localhost:8080/",
          "height": 54
        },
        "outputId": "a6af5afa-4e73-4225-9660-90433f5dc057"
      },
      "source": [
        "import pandas as pd\n",
        "import numpy as np\n",
        "import statsmodels.api as sm\n",
        "import seaborn as sb\n",
        "import math\n"
      ],
      "execution_count": null,
      "outputs": [
        {
          "output_type": "stream",
          "text": [
            "/usr/local/lib/python3.6/dist-packages/statsmodels/tools/_testing.py:19: FutureWarning: pandas.util.testing is deprecated. Use the functions in the public API at pandas.testing instead.\n",
            "  import pandas.util.testing as tm\n"
          ],
          "name": "stderr"
        }
      ]
    },
    {
      "cell_type": "markdown",
      "metadata": {
        "id": "E_b-KK0LbMfI"
      },
      "source": [
        "Next, we'll read in the data sources and create the DataFrame with all of our variables."
      ]
    },
    {
      "cell_type": "code",
      "metadata": {
        "id": "jLLaJ51WFFNv",
        "colab": {
          "base_uri": "https://localhost:8080/",
          "height": 228
        },
        "outputId": "b1617dd1-9099-498c-a982-b3b50829edd7"
      },
      "source": [
        "GlobalIndicators1 = pd.read_excel('http://data.shortell.nyc/files/HumanDevelopment.xlsx', index_col='Country', na_values=['NA'])\n",
        "GlobalIndicators1.head()"
      ],
      "execution_count": null,
      "outputs": [
        {
          "output_type": "execute_result",
          "data": {
            "text/html": [
              "<div>\n",
              "<style scoped>\n",
              "    .dataframe tbody tr th:only-of-type {\n",
              "        vertical-align: middle;\n",
              "    }\n",
              "\n",
              "    .dataframe tbody tr th {\n",
              "        vertical-align: top;\n",
              "    }\n",
              "\n",
              "    .dataframe thead th {\n",
              "        text-align: right;\n",
              "    }\n",
              "</style>\n",
              "<table border=\"1\" class=\"dataframe\">\n",
              "  <thead>\n",
              "    <tr style=\"text-align: right;\">\n",
              "      <th></th>\n",
              "      <th>HDI Rank</th>\n",
              "      <th>Human Development Index (HDI)</th>\n",
              "      <th>Life Expectancy at Birth</th>\n",
              "      <th>Expected Years of Education</th>\n",
              "      <th>Mean Years of Education</th>\n",
              "      <th>Gross National Income (GNI) per Capita</th>\n",
              "      <th>GNI per Capita Rank Minus HDI Rank</th>\n",
              "    </tr>\n",
              "    <tr>\n",
              "      <th>Country</th>\n",
              "      <th></th>\n",
              "      <th></th>\n",
              "      <th></th>\n",
              "      <th></th>\n",
              "      <th></th>\n",
              "      <th></th>\n",
              "      <th></th>\n",
              "    </tr>\n",
              "  </thead>\n",
              "  <tbody>\n",
              "    <tr>\n",
              "      <th>Norway</th>\n",
              "      <td>1</td>\n",
              "      <td>0.944</td>\n",
              "      <td>81.6</td>\n",
              "      <td>17.5</td>\n",
              "      <td>12.6</td>\n",
              "      <td>64992</td>\n",
              "      <td>5</td>\n",
              "    </tr>\n",
              "    <tr>\n",
              "      <th>Australia</th>\n",
              "      <td>2</td>\n",
              "      <td>0.935</td>\n",
              "      <td>82.4</td>\n",
              "      <td>20.2</td>\n",
              "      <td>13.0</td>\n",
              "      <td>42261</td>\n",
              "      <td>17</td>\n",
              "    </tr>\n",
              "    <tr>\n",
              "      <th>Switzerland</th>\n",
              "      <td>3</td>\n",
              "      <td>0.930</td>\n",
              "      <td>83.0</td>\n",
              "      <td>15.8</td>\n",
              "      <td>12.8</td>\n",
              "      <td>56431</td>\n",
              "      <td>6</td>\n",
              "    </tr>\n",
              "    <tr>\n",
              "      <th>Denmark</th>\n",
              "      <td>4</td>\n",
              "      <td>0.923</td>\n",
              "      <td>80.2</td>\n",
              "      <td>18.7</td>\n",
              "      <td>12.7</td>\n",
              "      <td>44025</td>\n",
              "      <td>11</td>\n",
              "    </tr>\n",
              "    <tr>\n",
              "      <th>Netherlands</th>\n",
              "      <td>5</td>\n",
              "      <td>0.922</td>\n",
              "      <td>81.6</td>\n",
              "      <td>17.9</td>\n",
              "      <td>11.9</td>\n",
              "      <td>45435</td>\n",
              "      <td>9</td>\n",
              "    </tr>\n",
              "  </tbody>\n",
              "</table>\n",
              "</div>"
            ],
            "text/plain": [
              "             HDI Rank  ...  GNI per Capita Rank Minus HDI Rank\n",
              "Country                ...                                    \n",
              "Norway              1  ...                                   5\n",
              "Australia           2  ...                                  17\n",
              "Switzerland         3  ...                                   6\n",
              "Denmark             4  ...                                  11\n",
              "Netherlands         5  ...                                   9\n",
              "\n",
              "[5 rows x 7 columns]"
            ]
          },
          "metadata": {
            "tags": []
          },
          "execution_count": 2
        }
      ]
    },
    {
      "cell_type": "code",
      "metadata": {
        "id": "NGR5sR8zFr5r",
        "colab": {
          "base_uri": "https://localhost:8080/",
          "height": 263
        },
        "outputId": "e01bc3a7-fb64-4e2a-ce81-9e101f7a4ed3"
      },
      "source": [
        "GlobalIndicators2 = pd.read_excel('http://data.shortell.nyc/files/GenderDevelopment.xlsx', index_col='Country', na_values=['NA'])\n",
        "GlobalIndicators2.head()"
      ],
      "execution_count": null,
      "outputs": [
        {
          "output_type": "execute_result",
          "data": {
            "text/html": [
              "<div>\n",
              "<style scoped>\n",
              "    .dataframe tbody tr th:only-of-type {\n",
              "        vertical-align: middle;\n",
              "    }\n",
              "\n",
              "    .dataframe tbody tr th {\n",
              "        vertical-align: top;\n",
              "    }\n",
              "\n",
              "    .dataframe thead th {\n",
              "        text-align: right;\n",
              "    }\n",
              "</style>\n",
              "<table border=\"1\" class=\"dataframe\">\n",
              "  <thead>\n",
              "    <tr style=\"text-align: right;\">\n",
              "      <th></th>\n",
              "      <th>GDI Rank</th>\n",
              "      <th>Gender Development Index (GDI)</th>\n",
              "      <th>Human Development Index (Female)</th>\n",
              "      <th>Human Development Index (Male)</th>\n",
              "      <th>Life Expectancy at Birth (Female)</th>\n",
              "      <th>Life Expectancy at Birth (Male)</th>\n",
              "      <th>Expected Years of Education (Female)</th>\n",
              "      <th>Expected Years of Education (Male)</th>\n",
              "      <th>Mean Years of Education (Female)</th>\n",
              "      <th>Mean Years of Education (Male)</th>\n",
              "      <th>Estimated Gross National Income per Capita (Female)</th>\n",
              "      <th>Estimated Gross National Income per Capita (Male)</th>\n",
              "    </tr>\n",
              "    <tr>\n",
              "      <th>Country</th>\n",
              "      <th></th>\n",
              "      <th></th>\n",
              "      <th></th>\n",
              "      <th></th>\n",
              "      <th></th>\n",
              "      <th></th>\n",
              "      <th></th>\n",
              "      <th></th>\n",
              "      <th></th>\n",
              "      <th></th>\n",
              "      <th></th>\n",
              "      <th></th>\n",
              "    </tr>\n",
              "  </thead>\n",
              "  <tbody>\n",
              "    <tr>\n",
              "      <th>Norway</th>\n",
              "      <td>1</td>\n",
              "      <td>0.996</td>\n",
              "      <td>0.940</td>\n",
              "      <td>0.944</td>\n",
              "      <td>83.6</td>\n",
              "      <td>79.5</td>\n",
              "      <td>18.2</td>\n",
              "      <td>16.8</td>\n",
              "      <td>12.7</td>\n",
              "      <td>12.5</td>\n",
              "      <td>57140.0</td>\n",
              "      <td>72825.0</td>\n",
              "    </tr>\n",
              "    <tr>\n",
              "      <th>Australia</th>\n",
              "      <td>2</td>\n",
              "      <td>0.976</td>\n",
              "      <td>0.922</td>\n",
              "      <td>0.945</td>\n",
              "      <td>84.5</td>\n",
              "      <td>80.3</td>\n",
              "      <td>20.7</td>\n",
              "      <td>19.7</td>\n",
              "      <td>13.1</td>\n",
              "      <td>12.9</td>\n",
              "      <td>33688.0</td>\n",
              "      <td>50914.0</td>\n",
              "    </tr>\n",
              "    <tr>\n",
              "      <th>Switzerland</th>\n",
              "      <td>3</td>\n",
              "      <td>0.950</td>\n",
              "      <td>0.898</td>\n",
              "      <td>0.945</td>\n",
              "      <td>85.0</td>\n",
              "      <td>80.8</td>\n",
              "      <td>15.7</td>\n",
              "      <td>15.9</td>\n",
              "      <td>11.5</td>\n",
              "      <td>13.1</td>\n",
              "      <td>44132.0</td>\n",
              "      <td>69077.0</td>\n",
              "    </tr>\n",
              "    <tr>\n",
              "      <th>Denmark</th>\n",
              "      <td>4</td>\n",
              "      <td>0.977</td>\n",
              "      <td>0.912</td>\n",
              "      <td>0.934</td>\n",
              "      <td>82.2</td>\n",
              "      <td>78.3</td>\n",
              "      <td>19.3</td>\n",
              "      <td>18.1</td>\n",
              "      <td>12.8</td>\n",
              "      <td>12.7</td>\n",
              "      <td>36439.0</td>\n",
              "      <td>51727.0</td>\n",
              "    </tr>\n",
              "    <tr>\n",
              "      <th>Netherlands</th>\n",
              "      <td>5</td>\n",
              "      <td>0.947</td>\n",
              "      <td>0.893</td>\n",
              "      <td>0.943</td>\n",
              "      <td>83.3</td>\n",
              "      <td>79.7</td>\n",
              "      <td>18.0</td>\n",
              "      <td>17.9</td>\n",
              "      <td>11.6</td>\n",
              "      <td>12.2</td>\n",
              "      <td>29500.0</td>\n",
              "      <td>61641.0</td>\n",
              "    </tr>\n",
              "  </tbody>\n",
              "</table>\n",
              "</div>"
            ],
            "text/plain": [
              "             GDI Rank  ...  Estimated Gross National Income per Capita (Male)\n",
              "Country                ...                                                   \n",
              "Norway              1  ...                                            72825.0\n",
              "Australia           2  ...                                            50914.0\n",
              "Switzerland         3  ...                                            69077.0\n",
              "Denmark             4  ...                                            51727.0\n",
              "Netherlands         5  ...                                            61641.0\n",
              "\n",
              "[5 rows x 12 columns]"
            ]
          },
          "metadata": {
            "tags": []
          },
          "execution_count": 3
        }
      ]
    },
    {
      "cell_type": "code",
      "metadata": {
        "id": "6llyeSraF8Nq",
        "colab": {
          "base_uri": "https://localhost:8080/",
          "height": 263
        },
        "outputId": "f63a08a0-c2e4-4058-8fb6-286f7be3b1ad"
      },
      "source": [
        "GlobalIndicators3 = pd.read_excel('http://data.shortell.nyc/files/GenderInequality.xlsx', index_col='Country', na_values=['NA'])\n",
        "GlobalIndicators3.head()"
      ],
      "execution_count": null,
      "outputs": [
        {
          "output_type": "execute_result",
          "data": {
            "text/html": [
              "<div>\n",
              "<style scoped>\n",
              "    .dataframe tbody tr th:only-of-type {\n",
              "        vertical-align: middle;\n",
              "    }\n",
              "\n",
              "    .dataframe tbody tr th {\n",
              "        vertical-align: top;\n",
              "    }\n",
              "\n",
              "    .dataframe thead th {\n",
              "        text-align: right;\n",
              "    }\n",
              "</style>\n",
              "<table border=\"1\" class=\"dataframe\">\n",
              "  <thead>\n",
              "    <tr style=\"text-align: right;\">\n",
              "      <th></th>\n",
              "      <th>GII Rank</th>\n",
              "      <th>Gender Inequality Index (GII)</th>\n",
              "      <th>Maternal Mortality Ratio</th>\n",
              "      <th>Adolescent Birth Rate</th>\n",
              "      <th>Percent Representation in Parliament</th>\n",
              "      <th>Population with Secondary Education (Female)</th>\n",
              "      <th>Population with Secondary Education (Male)</th>\n",
              "      <th>Labour Force Participation Rate (Female)</th>\n",
              "      <th>Labour Force Participation Rate (Male)</th>\n",
              "    </tr>\n",
              "    <tr>\n",
              "      <th>Country</th>\n",
              "      <th></th>\n",
              "      <th></th>\n",
              "      <th></th>\n",
              "      <th></th>\n",
              "      <th></th>\n",
              "      <th></th>\n",
              "      <th></th>\n",
              "      <th></th>\n",
              "      <th></th>\n",
              "    </tr>\n",
              "  </thead>\n",
              "  <tbody>\n",
              "    <tr>\n",
              "      <th>Norway</th>\n",
              "      <td>1</td>\n",
              "      <td>0.067</td>\n",
              "      <td>4.0</td>\n",
              "      <td>7.8</td>\n",
              "      <td>39.6</td>\n",
              "      <td>97.4</td>\n",
              "      <td>96.7</td>\n",
              "      <td>61.2</td>\n",
              "      <td>68.7</td>\n",
              "    </tr>\n",
              "    <tr>\n",
              "      <th>Australia</th>\n",
              "      <td>2</td>\n",
              "      <td>0.110</td>\n",
              "      <td>6.0</td>\n",
              "      <td>12.1</td>\n",
              "      <td>30.5</td>\n",
              "      <td>94.3</td>\n",
              "      <td>94.6</td>\n",
              "      <td>58.8</td>\n",
              "      <td>71.8</td>\n",
              "    </tr>\n",
              "    <tr>\n",
              "      <th>Switzerland</th>\n",
              "      <td>3</td>\n",
              "      <td>0.028</td>\n",
              "      <td>6.0</td>\n",
              "      <td>1.9</td>\n",
              "      <td>28.5</td>\n",
              "      <td>95.0</td>\n",
              "      <td>96.6</td>\n",
              "      <td>61.8</td>\n",
              "      <td>74.9</td>\n",
              "    </tr>\n",
              "    <tr>\n",
              "      <th>Denmark</th>\n",
              "      <td>4</td>\n",
              "      <td>0.048</td>\n",
              "      <td>5.0</td>\n",
              "      <td>5.1</td>\n",
              "      <td>38.0</td>\n",
              "      <td>95.5</td>\n",
              "      <td>96.6</td>\n",
              "      <td>58.7</td>\n",
              "      <td>66.4</td>\n",
              "    </tr>\n",
              "    <tr>\n",
              "      <th>Netherlands</th>\n",
              "      <td>5</td>\n",
              "      <td>0.062</td>\n",
              "      <td>6.0</td>\n",
              "      <td>6.2</td>\n",
              "      <td>36.9</td>\n",
              "      <td>87.7</td>\n",
              "      <td>90.5</td>\n",
              "      <td>58.5</td>\n",
              "      <td>70.6</td>\n",
              "    </tr>\n",
              "  </tbody>\n",
              "</table>\n",
              "</div>"
            ],
            "text/plain": [
              "             GII Rank  ...  Labour Force Participation Rate (Male)\n",
              "Country                ...                                        \n",
              "Norway              1  ...                                    68.7\n",
              "Australia           2  ...                                    71.8\n",
              "Switzerland         3  ...                                    74.9\n",
              "Denmark             4  ...                                    66.4\n",
              "Netherlands         5  ...                                    70.6\n",
              "\n",
              "[5 rows x 9 columns]"
            ]
          },
          "metadata": {
            "tags": []
          },
          "execution_count": 4
        }
      ]
    },
    {
      "cell_type": "code",
      "metadata": {
        "id": "teSrWhjPGHmC",
        "colab": {
          "base_uri": "https://localhost:8080/",
          "height": 35
        },
        "outputId": "e2e2797d-92ad-4a30-91e6-e26ed15b449c"
      },
      "source": [
        "GlobalIndicatorsTotal = pd.concat([GlobalIndicators1, GlobalIndicators2, GlobalIndicators3], axis=1)\n",
        "GlobalIndicatorsTotal.shape"
      ],
      "execution_count": null,
      "outputs": [
        {
          "output_type": "execute_result",
          "data": {
            "text/plain": [
              "(188, 28)"
            ]
          },
          "metadata": {
            "tags": []
          },
          "execution_count": 5
        }
      ]
    },
    {
      "cell_type": "markdown",
      "metadata": {
        "id": "XDVQfNUkbcNP"
      },
      "source": [
        "Now, we'll compute a binary variable that will be our dependent variable, Y. Then, we'll identify the relevant independent variables and put them in a new DataFrame, X. At that point, we can compute the model."
      ]
    },
    {
      "cell_type": "code",
      "metadata": {
        "id": "yXbr8CDfbJ4v",
        "colab": {
          "base_uri": "https://localhost:8080/",
          "height": 181
        },
        "outputId": "989d4025-fb0c-43db-8b4b-9e1ce4502d8c"
      },
      "source": [
        "GlobalIndicatorsTotal['Gender Inequality Index (GII)'].describe()"
      ],
      "execution_count": null,
      "outputs": [
        {
          "output_type": "execute_result",
          "data": {
            "text/plain": [
              "count    155.000000\n",
              "mean       0.365884\n",
              "std        0.191457\n",
              "min        0.016000\n",
              "25%        0.184000\n",
              "50%        0.385000\n",
              "75%        0.524500\n",
              "max        0.744000\n",
              "Name: Gender Inequality Index (GII), dtype: float64"
            ]
          },
          "metadata": {
            "tags": []
          },
          "execution_count": 6
        }
      ]
    },
    {
      "cell_type": "code",
      "metadata": {
        "id": "w_cNppVVdJ9m",
        "colab": {
          "base_uri": "https://localhost:8080/",
          "height": 181
        },
        "outputId": "57dddd19-9a15-403d-eaed-d2216205da6f"
      },
      "source": [
        "GlobalIndicatorsTotal['GII Binary'] = 0\n",
        "GlobalIndicatorsTotal.loc[GlobalIndicatorsTotal['Gender Inequality Index (GII)'] < 0.19, ['GII Binary']] = 1 #These are nations with a low gender inequality score--that is, the highest gender equality\n",
        "GlobalIndicatorsTotal['GII Binary'].describe()"
      ],
      "execution_count": null,
      "outputs": [
        {
          "output_type": "execute_result",
          "data": {
            "text/plain": [
              "count    188.000000\n",
              "mean       0.207447\n",
              "std        0.406561\n",
              "min        0.000000\n",
              "25%        0.000000\n",
              "50%        0.000000\n",
              "75%        0.000000\n",
              "max        1.000000\n",
              "Name: GII Binary, dtype: float64"
            ]
          },
          "metadata": {
            "tags": []
          },
          "execution_count": 7
        }
      ]
    },
    {
      "cell_type": "code",
      "metadata": {
        "id": "P5LE4MH3K3ZW",
        "colab": {
          "base_uri": "https://localhost:8080/",
          "height": 254
        },
        "outputId": "cbaa12db-ed11-4fea-ddaf-64cc0c96f492"
      },
      "source": [
        "GlobalIndicatorsTotal['GII Binary']"
      ],
      "execution_count": null,
      "outputs": [
        {
          "output_type": "execute_result",
          "data": {
            "text/plain": [
              "Country\n",
              "Norway                      1\n",
              "Australia                   1\n",
              "Switzerland                 1\n",
              "Denmark                     1\n",
              "Netherlands                 1\n",
              "                           ..\n",
              "Burundi                     0\n",
              "Chad                        0\n",
              "Eritrea                     0\n",
              "Central African Republic    0\n",
              "Niger                       0\n",
              "Name: GII Binary, Length: 188, dtype: int64"
            ]
          },
          "metadata": {
            "tags": []
          },
          "execution_count": 8
        }
      ]
    },
    {
      "cell_type": "code",
      "metadata": {
        "id": "WIXDQRU3eFJG",
        "colab": {
          "base_uri": "https://localhost:8080/",
          "height": 399
        },
        "outputId": "4f9f46dd-3305-44e9-d4fc-0b1e293f7cd6"
      },
      "source": [
        "Y = GlobalIndicatorsTotal['GII Binary']\n",
        "X = GlobalIndicatorsTotal[['Percent Representation in Parliament', 'Population with Secondary Education (Female)', 'Labour Force Participation Rate (Female)', 'Life Expectancy at Birth', 'Gross National Income (GNI) per Capita']]\n",
        "model0 = sm.Logit(Y, X, missing='drop').fit()\n",
        "print(model0.summary())"
      ],
      "execution_count": null,
      "outputs": [
        {
          "output_type": "stream",
          "text": [
            "Optimization terminated successfully.\n",
            "         Current function value: 0.321133\n",
            "         Iterations 8\n",
            "                           Logit Regression Results                           \n",
            "==============================================================================\n",
            "Dep. Variable:             GII Binary   No. Observations:                  156\n",
            "Model:                          Logit   Df Residuals:                      151\n",
            "Method:                           MLE   Df Model:                            4\n",
            "Date:                Thu, 02 Apr 2020   Pseudo R-squ.:                  0.4289\n",
            "Time:                        14:14:10   Log-Likelihood:                -50.097\n",
            "converged:                       True   LL-Null:                       -87.724\n",
            "Covariance Type:            nonrobust   LLR p-value:                 1.760e-15\n",
            "================================================================================================================\n",
            "                                                   coef    std err          z      P>|z|      [0.025      0.975]\n",
            "----------------------------------------------------------------------------------------------------------------\n",
            "Percent Representation in Parliament             0.1071      0.028      3.860      0.000       0.053       0.161\n",
            "Population with Secondary Education (Female)     0.0656      0.015      4.377      0.000       0.036       0.095\n",
            "Labour Force Participation Rate (Female)        -0.0584      0.024     -2.481      0.013      -0.104      -0.012\n",
            "Life Expectancy at Birth                        -0.0828      0.019     -4.468      0.000      -0.119      -0.046\n",
            "Gross National Income (GNI) per Capita        5.264e-05   1.42e-05      3.700      0.000    2.48e-05    8.05e-05\n",
            "================================================================================================================\n"
          ],
          "name": "stdout"
        }
      ]
    },
    {
      "cell_type": "code",
      "metadata": {
        "id": "Ra5mmzaQgh9X",
        "colab": {
          "base_uri": "https://localhost:8080/",
          "height": 35
        },
        "outputId": "dbee0301-f18c-471b-bc9d-2480723d24b2"
      },
      "source": [
        "print(math.exp(model0.params[0]), math.exp(model0.params[1]), 1/math.exp(model0.params[2]), 1/math.exp(model0.params[3]), math.exp(1000*model0.params[4]))\n",
        "# We need to exponentiate (or the take anti-logs of) the coefficients in order to interpret them as odds. For the negative coefficients, it is useful to take the inverse of the result\n",
        "# and interpret it in the opposite direction (that is, the odds of not being in the high gender equality group). You can also change the increment of change in X\n",
        "# as is the case here with the parameter for GNI per capita; I changed the increment to $1000 instead of $1."
      ],
      "execution_count": null,
      "outputs": [
        {
          "output_type": "stream",
          "text": [
            "1.113047941683358 1.0677546839634509 1.0600888084476103 1.086297381643493 1.0540509355600345\n"
          ],
          "name": "stdout"
        }
      ]
    },
    {
      "cell_type": "code",
      "metadata": {
        "id": "eVD8eCRWPnC5",
        "colab": {
          "base_uri": "https://localhost:8080/",
          "height": 272
        },
        "outputId": "8d3b2860-ded5-4032-e816-75e9077a112b"
      },
      "source": [
        "model0_marginals = model0.get_margeff()\n",
        "print(model0_marginals.summary())"
      ],
      "execution_count": null,
      "outputs": [
        {
          "output_type": "stream",
          "text": [
            "        Logit Marginal Effects       \n",
            "=====================================\n",
            "Dep. Variable:             GII Binary\n",
            "Method:                          dydx\n",
            "At:                           overall\n",
            "================================================================================================================\n",
            "                                                  dy/dx    std err          z      P>|z|      [0.025      0.975]\n",
            "----------------------------------------------------------------------------------------------------------------\n",
            "Percent Representation in Parliament             0.0109      0.002      4.922      0.000       0.007       0.015\n",
            "Population with Secondary Education (Female)     0.0066      0.001      5.889      0.000       0.004       0.009\n",
            "Labour Force Participation Rate (Female)        -0.0059      0.002     -2.653      0.008      -0.010      -0.002\n",
            "Life Expectancy at Birth                        -0.0084      0.001     -6.576      0.000      -0.011      -0.006\n",
            "Gross National Income (GNI) per Capita        5.335e-06   1.13e-06      4.728      0.000    3.12e-06    7.55e-06\n",
            "================================================================================================================\n"
          ],
          "name": "stdout"
        }
      ]
    },
    {
      "cell_type": "code",
      "metadata": {
        "id": "svP4wDVfQDMO",
        "colab": {
          "base_uri": "https://localhost:8080/",
          "height": 54
        },
        "outputId": "e3003dfe-2faf-48cf-8210-543e43122cc7"
      },
      "source": [
        "model0_pred = model0.pred_table()\n",
        "print(model0_pred) # Correct predictions are on the diagonal of the 2d array."
      ],
      "execution_count": null,
      "outputs": [
        {
          "output_type": "stream",
          "text": [
            "[[109.   8.]\n",
            " [ 12.  27.]]\n"
          ],
          "name": "stdout"
        }
      ]
    },
    {
      "cell_type": "code",
      "metadata": {
        "id": "jBbBnx0_UYqM",
        "colab": {
          "base_uri": "https://localhost:8080/",
          "height": 35
        },
        "outputId": "80eb9810-1b76-4dc6-a196-5b4625215434"
      },
      "source": [
        "correct_i = 109 / (109 + 8) # The proportion of correct predictions of 0.\n",
        "correct_j = 27 / (27 + 12) # The proportion of correct predictions of 1.\n",
        "print(correct_i, correct_j)"
      ],
      "execution_count": null,
      "outputs": [
        {
          "output_type": "stream",
          "text": [
            "0.9316239316239316 0.6923076923076923\n"
          ],
          "name": "stdout"
        }
      ]
    },
    {
      "cell_type": "markdown",
      "metadata": {
        "id": "ynbuDnuPcPtK"
      },
      "source": [
        "## Activity\n",
        "\n",
        "1. Find and read into a DataFrame a suitable dataset. You may use the global social indictors data from the example here. You may need to combine files, as shown here.\n",
        "\n",
        "2. Identify a dependent variable to explain. Create a binary variable of this measure, if needed. Explain why you chose this variable or recoded in the way you did.\n",
        "\n",
        "3. Build a model to explain the DV. You can use the odds (anti-log of the coefficients) or the marginal effects to test for the unique effects of each predictor.\n",
        "\n",
        "4. Explain the results."
      ]
    },
    {
      "cell_type": "code",
      "metadata": {
        "id": "Co8RmPH7c7Lb",
        "colab": {
          "base_uri": "https://localhost:8080/",
          "height": 327
        },
        "outputId": "be67daa2-8e23-4bfb-9c69-9c4acefaa7c4"
      },
      "source": [
        "import pandas as pd\n",
        "\n",
        "# Read the dataset from the given URL and set 'Country' as the index column\n",
        "GlobalIndicators3 = pd.read_excel('http://data.shortell.nyc/files/GenderInequality.xlsx', index_col='Country', na_values=['NA'])\n",
        "GlobalIndicators3.head()"
      ],
      "execution_count": 11,
      "outputs": [
        {
          "output_type": "execute_result",
          "data": {
            "text/plain": [
              "             GII Rank  Gender Inequality Index (GII)  \\\n",
              "Country                                                \n",
              "Norway              1                          0.067   \n",
              "Australia           2                          0.110   \n",
              "Switzerland         3                          0.028   \n",
              "Denmark             4                          0.048   \n",
              "Netherlands         5                          0.062   \n",
              "\n",
              "             Maternal Mortality Ratio  Adolescent Birth Rate  \\\n",
              "Country                                                        \n",
              "Norway                            4.0                    7.8   \n",
              "Australia                         6.0                   12.1   \n",
              "Switzerland                       6.0                    1.9   \n",
              "Denmark                           5.0                    5.1   \n",
              "Netherlands                       6.0                    6.2   \n",
              "\n",
              "             Percent Representation in Parliament  \\\n",
              "Country                                             \n",
              "Norway                                       39.6   \n",
              "Australia                                    30.5   \n",
              "Switzerland                                  28.5   \n",
              "Denmark                                      38.0   \n",
              "Netherlands                                  36.9   \n",
              "\n",
              "             Population with Secondary Education (Female)  \\\n",
              "Country                                                     \n",
              "Norway                                               97.4   \n",
              "Australia                                            94.3   \n",
              "Switzerland                                          95.0   \n",
              "Denmark                                              95.5   \n",
              "Netherlands                                          87.7   \n",
              "\n",
              "             Population with Secondary Education (Male)  \\\n",
              "Country                                                   \n",
              "Norway                                             96.7   \n",
              "Australia                                          94.6   \n",
              "Switzerland                                        96.6   \n",
              "Denmark                                            96.6   \n",
              "Netherlands                                        90.5   \n",
              "\n",
              "             Labour Force Participation Rate (Female)  \\\n",
              "Country                                                 \n",
              "Norway                                           61.2   \n",
              "Australia                                        58.8   \n",
              "Switzerland                                      61.8   \n",
              "Denmark                                          58.7   \n",
              "Netherlands                                      58.5   \n",
              "\n",
              "             Labour Force Participation Rate (Male)  \n",
              "Country                                              \n",
              "Norway                                         68.7  \n",
              "Australia                                      71.8  \n",
              "Switzerland                                    74.9  \n",
              "Denmark                                        66.4  \n",
              "Netherlands                                    70.6  "
            ],
            "text/html": [
              "\n",
              "  <div id=\"df-baf417fc-17a0-479f-a574-3381539b1c48\" class=\"colab-df-container\">\n",
              "    <div>\n",
              "<style scoped>\n",
              "    .dataframe tbody tr th:only-of-type {\n",
              "        vertical-align: middle;\n",
              "    }\n",
              "\n",
              "    .dataframe tbody tr th {\n",
              "        vertical-align: top;\n",
              "    }\n",
              "\n",
              "    .dataframe thead th {\n",
              "        text-align: right;\n",
              "    }\n",
              "</style>\n",
              "<table border=\"1\" class=\"dataframe\">\n",
              "  <thead>\n",
              "    <tr style=\"text-align: right;\">\n",
              "      <th></th>\n",
              "      <th>GII Rank</th>\n",
              "      <th>Gender Inequality Index (GII)</th>\n",
              "      <th>Maternal Mortality Ratio</th>\n",
              "      <th>Adolescent Birth Rate</th>\n",
              "      <th>Percent Representation in Parliament</th>\n",
              "      <th>Population with Secondary Education (Female)</th>\n",
              "      <th>Population with Secondary Education (Male)</th>\n",
              "      <th>Labour Force Participation Rate (Female)</th>\n",
              "      <th>Labour Force Participation Rate (Male)</th>\n",
              "    </tr>\n",
              "    <tr>\n",
              "      <th>Country</th>\n",
              "      <th></th>\n",
              "      <th></th>\n",
              "      <th></th>\n",
              "      <th></th>\n",
              "      <th></th>\n",
              "      <th></th>\n",
              "      <th></th>\n",
              "      <th></th>\n",
              "      <th></th>\n",
              "    </tr>\n",
              "  </thead>\n",
              "  <tbody>\n",
              "    <tr>\n",
              "      <th>Norway</th>\n",
              "      <td>1</td>\n",
              "      <td>0.067</td>\n",
              "      <td>4.0</td>\n",
              "      <td>7.8</td>\n",
              "      <td>39.6</td>\n",
              "      <td>97.4</td>\n",
              "      <td>96.7</td>\n",
              "      <td>61.2</td>\n",
              "      <td>68.7</td>\n",
              "    </tr>\n",
              "    <tr>\n",
              "      <th>Australia</th>\n",
              "      <td>2</td>\n",
              "      <td>0.110</td>\n",
              "      <td>6.0</td>\n",
              "      <td>12.1</td>\n",
              "      <td>30.5</td>\n",
              "      <td>94.3</td>\n",
              "      <td>94.6</td>\n",
              "      <td>58.8</td>\n",
              "      <td>71.8</td>\n",
              "    </tr>\n",
              "    <tr>\n",
              "      <th>Switzerland</th>\n",
              "      <td>3</td>\n",
              "      <td>0.028</td>\n",
              "      <td>6.0</td>\n",
              "      <td>1.9</td>\n",
              "      <td>28.5</td>\n",
              "      <td>95.0</td>\n",
              "      <td>96.6</td>\n",
              "      <td>61.8</td>\n",
              "      <td>74.9</td>\n",
              "    </tr>\n",
              "    <tr>\n",
              "      <th>Denmark</th>\n",
              "      <td>4</td>\n",
              "      <td>0.048</td>\n",
              "      <td>5.0</td>\n",
              "      <td>5.1</td>\n",
              "      <td>38.0</td>\n",
              "      <td>95.5</td>\n",
              "      <td>96.6</td>\n",
              "      <td>58.7</td>\n",
              "      <td>66.4</td>\n",
              "    </tr>\n",
              "    <tr>\n",
              "      <th>Netherlands</th>\n",
              "      <td>5</td>\n",
              "      <td>0.062</td>\n",
              "      <td>6.0</td>\n",
              "      <td>6.2</td>\n",
              "      <td>36.9</td>\n",
              "      <td>87.7</td>\n",
              "      <td>90.5</td>\n",
              "      <td>58.5</td>\n",
              "      <td>70.6</td>\n",
              "    </tr>\n",
              "  </tbody>\n",
              "</table>\n",
              "</div>\n",
              "    <div class=\"colab-df-buttons\">\n",
              "\n",
              "  <div class=\"colab-df-container\">\n",
              "    <button class=\"colab-df-convert\" onclick=\"convertToInteractive('df-baf417fc-17a0-479f-a574-3381539b1c48')\"\n",
              "            title=\"Convert this dataframe to an interactive table.\"\n",
              "            style=\"display:none;\">\n",
              "\n",
              "  <svg xmlns=\"http://www.w3.org/2000/svg\" height=\"24px\" viewBox=\"0 -960 960 960\">\n",
              "    <path d=\"M120-120v-720h720v720H120Zm60-500h600v-160H180v160Zm220 220h160v-160H400v160Zm0 220h160v-160H400v160ZM180-400h160v-160H180v160Zm440 0h160v-160H620v160ZM180-180h160v-160H180v160Zm440 0h160v-160H620v160Z\"/>\n",
              "  </svg>\n",
              "    </button>\n",
              "\n",
              "  <style>\n",
              "    .colab-df-container {\n",
              "      display:flex;\n",
              "      gap: 12px;\n",
              "    }\n",
              "\n",
              "    .colab-df-convert {\n",
              "      background-color: #E8F0FE;\n",
              "      border: none;\n",
              "      border-radius: 50%;\n",
              "      cursor: pointer;\n",
              "      display: none;\n",
              "      fill: #1967D2;\n",
              "      height: 32px;\n",
              "      padding: 0 0 0 0;\n",
              "      width: 32px;\n",
              "    }\n",
              "\n",
              "    .colab-df-convert:hover {\n",
              "      background-color: #E2EBFA;\n",
              "      box-shadow: 0px 1px 2px rgba(60, 64, 67, 0.3), 0px 1px 3px 1px rgba(60, 64, 67, 0.15);\n",
              "      fill: #174EA6;\n",
              "    }\n",
              "\n",
              "    .colab-df-buttons div {\n",
              "      margin-bottom: 4px;\n",
              "    }\n",
              "\n",
              "    [theme=dark] .colab-df-convert {\n",
              "      background-color: #3B4455;\n",
              "      fill: #D2E3FC;\n",
              "    }\n",
              "\n",
              "    [theme=dark] .colab-df-convert:hover {\n",
              "      background-color: #434B5C;\n",
              "      box-shadow: 0px 1px 3px 1px rgba(0, 0, 0, 0.15);\n",
              "      filter: drop-shadow(0px 1px 2px rgba(0, 0, 0, 0.3));\n",
              "      fill: #FFFFFF;\n",
              "    }\n",
              "  </style>\n",
              "\n",
              "    <script>\n",
              "      const buttonEl =\n",
              "        document.querySelector('#df-baf417fc-17a0-479f-a574-3381539b1c48 button.colab-df-convert');\n",
              "      buttonEl.style.display =\n",
              "        google.colab.kernel.accessAllowed ? 'block' : 'none';\n",
              "\n",
              "      async function convertToInteractive(key) {\n",
              "        const element = document.querySelector('#df-baf417fc-17a0-479f-a574-3381539b1c48');\n",
              "        const dataTable =\n",
              "          await google.colab.kernel.invokeFunction('convertToInteractive',\n",
              "                                                    [key], {});\n",
              "        if (!dataTable) return;\n",
              "\n",
              "        const docLinkHtml = 'Like what you see? Visit the ' +\n",
              "          '<a target=\"_blank\" href=https://colab.research.google.com/notebooks/data_table.ipynb>data table notebook</a>'\n",
              "          + ' to learn more about interactive tables.';\n",
              "        element.innerHTML = '';\n",
              "        dataTable['output_type'] = 'display_data';\n",
              "        await google.colab.output.renderOutput(dataTable, element);\n",
              "        const docLink = document.createElement('div');\n",
              "        docLink.innerHTML = docLinkHtml;\n",
              "        element.appendChild(docLink);\n",
              "      }\n",
              "    </script>\n",
              "  </div>\n",
              "\n",
              "\n",
              "<div id=\"df-4fb72bea-6a7c-4fad-9b9b-475daf6693f9\">\n",
              "  <button class=\"colab-df-quickchart\" onclick=\"quickchart('df-4fb72bea-6a7c-4fad-9b9b-475daf6693f9')\"\n",
              "            title=\"Suggest charts.\"\n",
              "            style=\"display:none;\">\n",
              "\n",
              "<svg xmlns=\"http://www.w3.org/2000/svg\" height=\"24px\"viewBox=\"0 0 24 24\"\n",
              "     width=\"24px\">\n",
              "    <g>\n",
              "        <path d=\"M19 3H5c-1.1 0-2 .9-2 2v14c0 1.1.9 2 2 2h14c1.1 0 2-.9 2-2V5c0-1.1-.9-2-2-2zM9 17H7v-7h2v7zm4 0h-2V7h2v10zm4 0h-2v-4h2v4z\"/>\n",
              "    </g>\n",
              "</svg>\n",
              "  </button>\n",
              "\n",
              "<style>\n",
              "  .colab-df-quickchart {\n",
              "      --bg-color: #E8F0FE;\n",
              "      --fill-color: #1967D2;\n",
              "      --hover-bg-color: #E2EBFA;\n",
              "      --hover-fill-color: #174EA6;\n",
              "      --disabled-fill-color: #AAA;\n",
              "      --disabled-bg-color: #DDD;\n",
              "  }\n",
              "\n",
              "  [theme=dark] .colab-df-quickchart {\n",
              "      --bg-color: #3B4455;\n",
              "      --fill-color: #D2E3FC;\n",
              "      --hover-bg-color: #434B5C;\n",
              "      --hover-fill-color: #FFFFFF;\n",
              "      --disabled-bg-color: #3B4455;\n",
              "      --disabled-fill-color: #666;\n",
              "  }\n",
              "\n",
              "  .colab-df-quickchart {\n",
              "    background-color: var(--bg-color);\n",
              "    border: none;\n",
              "    border-radius: 50%;\n",
              "    cursor: pointer;\n",
              "    display: none;\n",
              "    fill: var(--fill-color);\n",
              "    height: 32px;\n",
              "    padding: 0;\n",
              "    width: 32px;\n",
              "  }\n",
              "\n",
              "  .colab-df-quickchart:hover {\n",
              "    background-color: var(--hover-bg-color);\n",
              "    box-shadow: 0 1px 2px rgba(60, 64, 67, 0.3), 0 1px 3px 1px rgba(60, 64, 67, 0.15);\n",
              "    fill: var(--button-hover-fill-color);\n",
              "  }\n",
              "\n",
              "  .colab-df-quickchart-complete:disabled,\n",
              "  .colab-df-quickchart-complete:disabled:hover {\n",
              "    background-color: var(--disabled-bg-color);\n",
              "    fill: var(--disabled-fill-color);\n",
              "    box-shadow: none;\n",
              "  }\n",
              "\n",
              "  .colab-df-spinner {\n",
              "    border: 2px solid var(--fill-color);\n",
              "    border-color: transparent;\n",
              "    border-bottom-color: var(--fill-color);\n",
              "    animation:\n",
              "      spin 1s steps(1) infinite;\n",
              "  }\n",
              "\n",
              "  @keyframes spin {\n",
              "    0% {\n",
              "      border-color: transparent;\n",
              "      border-bottom-color: var(--fill-color);\n",
              "      border-left-color: var(--fill-color);\n",
              "    }\n",
              "    20% {\n",
              "      border-color: transparent;\n",
              "      border-left-color: var(--fill-color);\n",
              "      border-top-color: var(--fill-color);\n",
              "    }\n",
              "    30% {\n",
              "      border-color: transparent;\n",
              "      border-left-color: var(--fill-color);\n",
              "      border-top-color: var(--fill-color);\n",
              "      border-right-color: var(--fill-color);\n",
              "    }\n",
              "    40% {\n",
              "      border-color: transparent;\n",
              "      border-right-color: var(--fill-color);\n",
              "      border-top-color: var(--fill-color);\n",
              "    }\n",
              "    60% {\n",
              "      border-color: transparent;\n",
              "      border-right-color: var(--fill-color);\n",
              "    }\n",
              "    80% {\n",
              "      border-color: transparent;\n",
              "      border-right-color: var(--fill-color);\n",
              "      border-bottom-color: var(--fill-color);\n",
              "    }\n",
              "    90% {\n",
              "      border-color: transparent;\n",
              "      border-bottom-color: var(--fill-color);\n",
              "    }\n",
              "  }\n",
              "</style>\n",
              "\n",
              "  <script>\n",
              "    async function quickchart(key) {\n",
              "      const quickchartButtonEl =\n",
              "        document.querySelector('#' + key + ' button');\n",
              "      quickchartButtonEl.disabled = true;  // To prevent multiple clicks.\n",
              "      quickchartButtonEl.classList.add('colab-df-spinner');\n",
              "      try {\n",
              "        const charts = await google.colab.kernel.invokeFunction(\n",
              "            'suggestCharts', [key], {});\n",
              "      } catch (error) {\n",
              "        console.error('Error during call to suggestCharts:', error);\n",
              "      }\n",
              "      quickchartButtonEl.classList.remove('colab-df-spinner');\n",
              "      quickchartButtonEl.classList.add('colab-df-quickchart-complete');\n",
              "    }\n",
              "    (() => {\n",
              "      let quickchartButtonEl =\n",
              "        document.querySelector('#df-4fb72bea-6a7c-4fad-9b9b-475daf6693f9 button');\n",
              "      quickchartButtonEl.style.display =\n",
              "        google.colab.kernel.accessAllowed ? 'block' : 'none';\n",
              "    })();\n",
              "  </script>\n",
              "</div>\n",
              "    </div>\n",
              "  </div>\n"
            ]
          },
          "metadata": {},
          "execution_count": 11
        }
      ]
    },
    {
      "cell_type": "code",
      "source": [
        "# Define a threshold to categorize countries into High/Low Gender Inequality\n",
        "threshold = 0.5  # You can adjust this threshold as needed\n",
        "\n",
        "# Create a binary variable 'HighGenderInequality' based on the threshold\n",
        "GlobalIndicators3['HighGenderInequality'] = (GlobalIndicators3['Gender Inequality Index (GII)'] > threshold).astype(int)\n"
      ],
      "metadata": {
        "id": "JfCGXmLTrPzv"
      },
      "execution_count": 12,
      "outputs": []
    },
    {
      "cell_type": "markdown",
      "source": [
        "This code creates a new binary variable 'HighGenderInequality' where countries with GII greater than the threshold are labeled as 1 (High Gender Inequality) and others as 0 (Low Gender Inequality).\n",
        "\n"
      ],
      "metadata": {
        "id": "T-9SXTHLusOi"
      }
    },
    {
      "cell_type": "code",
      "source": [
        "import statsmodels.api as sm\n",
        "\n",
        "# Remove rows with missing values\n",
        "GlobalIndicators3_cleaned = GlobalIndicators3.dropna()\n",
        "\n",
        "# Define the predictors and add a constant for the intercept\n",
        "X = GlobalIndicators3_cleaned[['Maternal Mortality Ratio', 'Adolescent Birth Rate', 'Percent Representation in Parliament', 'Population with Secondary Education (Female)', 'Population with Secondary Education (Male)', 'Labour Force Participation Rate (Female)', 'Labour Force Participation Rate (Male)']]\n",
        "X = sm.add_constant(X)\n",
        "\n",
        "# Define the dependent variable\n",
        "y = GlobalIndicators3_cleaned['HighGenderInequality']\n",
        "\n",
        "# Fit a logistic regression model\n",
        "model = sm.Logit(y, X).fit()\n",
        "\n",
        "# Print model summary\n",
        "print(model.summary())\n",
        "\n"
      ],
      "metadata": {
        "colab": {
          "base_uri": "https://localhost:8080/"
        },
        "id": "c-KOp52frS43",
        "outputId": "b37d9be9-dd09-4835-c333-8d9dfc6536f9"
      },
      "execution_count": 14,
      "outputs": [
        {
          "output_type": "stream",
          "name": "stdout",
          "text": [
            "Optimization terminated successfully.\n",
            "         Current function value: 0.102028\n",
            "         Iterations 11\n",
            "                            Logit Regression Results                            \n",
            "================================================================================\n",
            "Dep. Variable:     HighGenderInequality   No. Observations:                  155\n",
            "Model:                            Logit   Df Residuals:                      147\n",
            "Method:                             MLE   Df Model:                            7\n",
            "Date:                  Mon, 02 Oct 2023   Pseudo R-squ.:                  0.8306\n",
            "Time:                          23:28:52   Log-Likelihood:                -15.814\n",
            "converged:                         True   LL-Null:                       -93.378\n",
            "Covariance Type:              nonrobust   LLR p-value:                 3.396e-30\n",
            "================================================================================================================\n",
            "                                                   coef    std err          z      P>|z|      [0.025      0.975]\n",
            "----------------------------------------------------------------------------------------------------------------\n",
            "const                                          -20.7790      8.802     -2.361      0.018     -38.031      -3.527\n",
            "Maternal Mortality Ratio                         0.0320      0.010      3.060      0.002       0.012       0.052\n",
            "Adolescent Birth Rate                            0.1191      0.039      3.090      0.002       0.044       0.195\n",
            "Percent Representation in Parliament            -0.3798      0.132     -2.869      0.004      -0.639      -0.120\n",
            "Population with Secondary Education (Female)    -0.1068      0.059     -1.814      0.070      -0.222       0.009\n",
            "Population with Secondary Education (Male)       0.1287      0.071      1.822      0.068      -0.010       0.267\n",
            "Labour Force Participation Rate (Female)        -0.2007      0.072     -2.790      0.005      -0.342      -0.060\n",
            "Labour Force Participation Rate (Male)           0.2932      0.121      2.428      0.015       0.057       0.530\n",
            "================================================================================================================\n",
            "\n",
            "Possibly complete quasi-separation: A fraction 0.54 of observations can be\n",
            "perfectly predicted. This might indicate that there is complete\n",
            "quasi-separation. In this case some parameters will not be identified.\n"
          ]
        }
      ]
    },
    {
      "cell_type": "markdown",
      "source": [
        "The logistic regression model successfully converged, and its findings show a significant explanatory power with a pseudo-R-squared value of 0.8306. The coefficients of the predictors shed light on the elements which contributes to high gender inequality. Notably, the 'Maternal Mortality Ratio,' 'Adolescent Birth Rate,' and 'Labour Force Participation Rate (Male)' all have positive coefficients, indicating that higher maternal mortality, adolescent birth rates, and male labor force participation rates are associated with a higher likelihood of high gender inequality. Alternatively, the coefficient for \"Percent Representation in Parliament\" is negative, indicating that there is a correlation between reduced gender disparity and more representation of women in the legislature. Less significant relationships seen for the remaining variables, including \"Population with Secondary Education.\" It is important to note that the model's pseudo R-squared indicates that a sizable percentage of the variability in high gender inequality is still unaccounted for, and the possibility of quasi-separation reveals that some parameters may not be found due to the features of the data. To fully comprehend the many processes causing gender imbalance, more research and model improvement may be required."
      ],
      "metadata": {
        "id": "guH3BDQxvlv-"
      }
    }
  ]
}